{
 "cells": [
  {
   "cell_type": "code",
   "execution_count": 9,
   "id": "20d5c683-8c81-4373-99de-ee354d12c9a4",
   "metadata": {},
   "outputs": [],
   "source": [
    "import torch     \n",
    "import torch.nn as nn    \n",
    "import torch.optim as optim    \n",
    "import matplotlib.pyplot as plt"
   ]
  },
  {
   "cell_type": "code",
   "execution_count": 17,
   "id": "cd9e3989-8423-4268-9c32-08c792445a4c",
   "metadata": {},
   "outputs": [
    {
     "name": "stdout",
     "output_type": "stream",
     "text": [
      "{'the': 0, 'model': 1, 'stands': 2, 'continuous': 3, 'bag': 4, 'are': 5, 'cbow': 6, 'studying': 7, 'of': 8, 'for': 9, 'we': 10, 'words': 11}\n"
     ]
    }
   ],
   "source": [
    "#sample sentences and preprocessing \n",
    "sentences=[\"We are studying the CBOW model\",\"CBOW stands for Continuous Bag of Words\"]\n",
    "words=\" \".join(sentences).lower().split()\n",
    "vocab=set(words)\n",
    "word_to_ix={word: i for  i, word in  enumerate(vocab)}\n",
    "ix_to_word={i:word for word ,i in word_to_ix.items()}\n",
    "vocab_size=len(vocab)\n",
    "context_size=2\n",
    "embed_dim=10\n",
    "\n",
    "#Create context-target pairs\n",
    "data=[]\n",
    "for i in range(context_size,len(words) -context_size):\n",
    "    context=[words[i-2],words[i-1],words[i+1],words[i+2]]\n",
    "    target=words[i]\n",
    "    data.append((context,target))\n",
    "print(word_to_ix)"
   ]
  },
  {
   "cell_type": "code",
   "execution_count": null,
   "id": "de1715c2-01e0-440b-a185-9bb284d6b4a4",
   "metadata": {},
   "outputs": [],
   "source": []
  },
  {
   "cell_type": "code",
   "execution_count": 11,
   "id": "3f592a15-100d-432c-a1c5-43db4aaaf314",
   "metadata": {},
   "outputs": [],
   "source": [
    "class CBOW(nn.Module):\n",
    "    def __init__(self, vocab_size, embed_dim):\n",
    "        super(CBOW, self).__init__()\n",
    "        self.embeddings = nn.Embedding(vocab_size, embed_dim)\n",
    "        self.linear1 = nn.Linear(2 * context_size * embed_dim, 128)\n",
    "        self.linear2 = nn.Linear(128, vocab_size)\n",
    "\n",
    "    def forward(self, context_idxs):\n",
    "        embeds = self.embeddings(context_idxs).view(1, -1)\n",
    "        out = torch.relu(self.linear1(embeds))\n",
    "        out = self.linear2(out)\n",
    "        return out"
   ]
  },
  {
   "cell_type": "code",
   "execution_count": 12,
   "id": "ce9b93dd-577b-4e3b-932d-6be788c1464d",
   "metadata": {},
   "outputs": [
    {
     "name": "stdout",
     "output_type": "stream",
     "text": [
      "Epoch 0, Loss: 22.44996190071106\n",
      "Epoch 10, Loss: 7.107532024383545\n",
      "Epoch 20, Loss: 2.140383705496788\n",
      "Epoch 30, Loss: 0.9899765104055405\n",
      "Epoch 40, Loss: 0.5989576131105423\n"
     ]
    }
   ],
   "source": [
    "model = CBOW(vocab_size, embed_dim=10)\n",
    "loss_function = nn.CrossEntropyLoss()\n",
    "optimizer = optim.SGD(model.parameters(), lr=0.01)\n",
    "loss_values = []  # Initialize this outside the loop to accumulate values across epochs\n",
    "# Training loop\n",
    "for epoch in range(50):\n",
    "    total_loss = 0\n",
    "  \n",
    "    for context, target in data:\n",
    "        # Convert context and target words to tensor indices\n",
    "        context_idxs = torch.tensor([word_to_ix[w] for w in context], dtype=torch.long)\n",
    "        target_idx = torch.tensor([word_to_ix[target]], dtype=torch.long)\n",
    "\n",
    "        # Forward pass\n",
    "        optimizer.zero_grad()  # Clear the gradients\n",
    "        output = model(context_idxs)  # Predict output\n",
    "        loss = loss_function(output, target_idx)  # Calculate loss\n",
    "  # Calculate loss\n",
    "\n",
    "        # Automatic backward propagation and weight update\n",
    "        loss.backward()\n",
    "        optimizer.step()\n",
    "\n",
    "        total_loss += loss.item()\n",
    "        # Calculate and store the average loss for this epoch\n",
    "    average_loss = total_loss / len(data)\n",
    "    loss_values.append(average_loss)\n",
    "\n",
    "    # Print loss every 10 epochs for monitoring\n",
    "    if epoch % 10 == 0:\n",
    "        print(f\"Epoch {epoch}, Loss: {total_loss}\")"
   ]
  },
  {
   "cell_type": "code",
   "execution_count": 13,
   "id": "0aeac35f-c4fd-4bee-a3f5-898ea457471a",
   "metadata": {},
   "outputs": [
    {
     "data": {
      "image/png": "[encoded data removed]",
      "text/plain": [
       "<Figure size 1000x500 with 1 Axes>"
      ]
     },
     "metadata": {},
     "output_type": "display_data"
    }
   ],
   "source": [
    "plt.figure(figsize=(10, 5))\n",
    "plt.plot(range(len(loss_values)), loss_values, marker='o', color='b')\n",
    "plt.title(\"Training Loss Over Epochs\")\n",
    "plt.xlabel(\"Epochs\")\n",
    "plt.ylabel(\"Average Loss\")\n",
    "plt.grid(True)\n",
    "plt.show()\n"
   ]
  },
  {
   "cell_type": "code",
   "execution_count": 18,
   "id": "254477b3-e9c9-4a7a-870a-0fa01d1f0443",
   "metadata": {},
   "outputs": [
    {
     "name": "stdout",
     "output_type": "stream",
     "text": [
      "for\n"
     ]
    }
   ],
   "source": [
    "def predict(context):\n",
    "    context_idxs = torch.tensor([word_to_ix[w] for w in context], dtype=torch.long)\n",
    "    with torch.no_grad():\n",
    "        output = model(context_idxs)\n",
    "        predicted_idx = output.argmax().item()\n",
    "    return ix_to_word[predicted_idx]\n",
    "\n",
    "# Test prediction\n",
    "print(predict([\"cbow\", \"stands\", \"for\", \"continuous\"]))  # Example prediction\n"
   ]
  },
  {
   "cell_type": "code",
   "execution_count": 15,
   "id": "6e9ef5fc-c8d7-45b6-97ea-f53a61247201",
   "metadata": {},
   "outputs": [],
   "source": [
    "\n",
    "\n",
    "# Accuracy calculation\n",
    "\n",
    "def accuracy():\n",
    "    return sum(predict(context) == target for context, target in data) / len(data)"
   ]
  },
  {
   "cell_type": "code",
   "execution_count": 16,
   "id": "f8afea93-8c59-457f-b7e5-88c5a281c898",
   "metadata": {},
   "outputs": [
    {
     "name": "stdout",
     "output_type": "stream",
     "text": [
      "1.0\n"
     ]
    }
   ],
   "source": [
    "print(accuracy())"
   ]
  },
  {
   "cell_type": "code",
   "execution_count": null,
   "id": "9a68446e-223e-4763-8e63-02f269e9c0ea",
   "metadata": {},
   "outputs": [],
   "source": []
  },
  {
   "cell_type": "code",
   "execution_count": null,
   "id": "b37d5927-892d-4816-9a14-e9d76b974d59",
   "metadata": {},
   "outputs": [],
   "source": []
  },
  {
   "cell_type": "code",
   "execution_count": null,
   "id": "6c1c81cc-2199-43de-979a-474b208b7216",
   "metadata": {},
   "outputs": [],
   "source": []
  }
 ],
 "metadata": {
  "kernelspec": {
   "display_name": "Python 3 (ipykernel)",
   "language": "python",
   "name": "python3"
  },
  "language_info": {
   "codemirror_mode": {
    "name": "ipython",
    "version": 3
   },
   "file_extension": ".py",
   "mimetype": "text/x-python",
   "name": "python",
   "nbconvert_exporter": "python",
   "pygments_lexer": "ipython3",
   "version": "3.11.5"
  }
 },
 "nbformat": 4,
 "nbformat_minor": 5
}
