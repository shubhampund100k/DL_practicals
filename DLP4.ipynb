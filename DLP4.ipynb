{
 "cells": [
  {
   "cell_type": "code",
   "execution_count": 6,
   "id": "6c43e74b-9ca8-4e4f-9af6-6ea037c3ec47",
   "metadata": {},
   "outputs": [],
   "source": [
    "import numpy as np \n",
    "import pandas as pd\n",
    "import tensorflow as tf\n",
    "from sklearn.model_selection import train_test_split\n",
    "from sklearn.preprocessing import StandardScaler"
   ]
  },
  {
   "cell_type": "code",
   "execution_count": 8,
   "id": "85411792-aa93-40a5-ab6d-217bd6fd0693",
   "metadata": {},
   "outputs": [],
   "source": [
    "dataset=pd.read_csv('creditcard.csv')\n",
    "sc=StandardScaler()\n",
    "dataset['Time']=sc.fit_transform(dataset['Time'].values.reshape(-1,1))\n",
    "dataset['Amount']=sc.fit_transform(dataset['Amount'].values.reshape(-1,1))"
   ]
  },
  {
   "cell_type": "code",
   "execution_count": 15,
   "id": "767cf3eb-377e-46ee-a56f-6869173de094",
   "metadata": {},
   "outputs": [],
   "source": [
    "data=dataset.iloc[:,:-1].values\n",
    "labels=dataset['Class'].values\n",
    "# training \n",
    "train_data,test_data,train_labels,test_labels=train_test_split(data,labels,test_size=0.2,random_state=2021)"
   ]
  },
  {
   "cell_type": "code",
   "execution_count": 16,
   "id": "28b9eacc-d399-43d6-9494-6f225467040c",
   "metadata": {},
   "outputs": [],
   "source": [
    "#normalization \n",
    "min_val=tf.reduce_min(train_data)\n",
    "max_val=tf.reduce_max(train_data)\n",
    "train_data=(train_data-min_val) /(max_val - min_val)\n",
    "test_data=(test_data - min_val) / (max_val - min_val)"
   ]
  },
  {
   "cell_type": "code",
   "execution_count": 17,
   "id": "dd70eefd-04b4-4b5c-995a-5f70887a2ec2",
   "metadata": {},
   "outputs": [],
   "source": [
    "#autoencoder\n",
    "  \n",
    "input_dim = train_data.shape[1] # Number of features in input data\n",
    " \n",
    "encoding_dim =14  # Number of units in first encoder layer \n",
    "input_layer=tf.keras.layers.Input(shape=(input_dim))\n",
    "encoder=tf.keras.layers.Dense(encoding_dim,activation='tanh')(input_layer)\n",
    "encoder=tf.keras.layers.Dense(7,activation='relu')(encoder)\n",
    "decoder=tf.keras.layers.Dense(encoding_dim,activation='relu')(encoder)\n",
    "decoder=tf.keras.layers.Dense(input_dim,activation='tanh')(decoder)\n",
    "\n",
    "autoencoder=tf.keras.Model(inputs=input_layer,outputs=decoder)"
   ]
  },
  {
   "cell_type": "code",
   "execution_count": 18,
   "id": "eb61eec0-b1ea-40e3-ad39-caacb3b141cb",
   "metadata": {},
   "outputs": [],
   "source": [
    "autoencoder.compile(optimizer='adam',loss='mean_squared_error')\n"
   ]
  },
  {
   "cell_type": "code",
   "execution_count": 22,
   "id": "a59723fd-22f2-464b-aa91-8b7041e6e3dd",
   "metadata": {},
   "outputs": [
    {
     "name": "stdout",
     "output_type": "stream",
     "text": [
      "Epoch 1/50\n"
     ]
    },
    {
     "name": "stderr",
     "output_type": "stream",
     "text": [
      "2024-11-06 16:29:24.246870: W tensorflow/tsl/platform/profile_utils/cpu_utils.cc:128] Failed to get CPU frequency: 0 Hz\n"
     ]
    },
    {
     "name": "stdout",
     "output_type": "stream",
     "text": [
      "3561/3561 [==============================] - 2s 456us/step - loss: 0.0053 - val_loss: 2.0565e-05\n",
      "Epoch 2/50\n",
      "3561/3561 [==============================] - 2s 442us/step - loss: 2.0620e-05 - val_loss: 2.0881e-05\n",
      "Epoch 3/50\n",
      "3561/3561 [==============================] - 2s 443us/step - loss: 2.0449e-05 - val_loss: 2.0207e-05\n",
      "Epoch 4/50\n",
      "3561/3561 [==============================] - 2s 438us/step - loss: 2.0091e-05 - val_loss: 1.9868e-05\n",
      "Epoch 5/50\n",
      "3561/3561 [==============================] - 2s 439us/step - loss: 1.9688e-05 - val_loss: 1.9371e-05\n",
      "Epoch 6/50\n",
      "3561/3561 [==============================] - 2s 440us/step - loss: 1.9301e-05 - val_loss: 1.8751e-05\n",
      "Epoch 7/50\n",
      "3561/3561 [==============================] - 2s 441us/step - loss: 1.8882e-05 - val_loss: 1.9506e-05\n",
      "Epoch 8/50\n",
      "3561/3561 [==============================] - 2s 443us/step - loss: 1.8520e-05 - val_loss: 1.8578e-05\n",
      "Epoch 9/50\n",
      "3561/3561 [==============================] - 2s 441us/step - loss: 1.8248e-05 - val_loss: 1.9089e-05\n",
      "Epoch 10/50\n",
      "3561/3561 [==============================] - 2s 439us/step - loss: 1.8063e-05 - val_loss: 1.8365e-05\n",
      "Epoch 11/50\n",
      "3561/3561 [==============================] - 2s 438us/step - loss: 1.7939e-05 - val_loss: 1.8018e-05\n",
      "Epoch 12/50\n",
      "3561/3561 [==============================] - 2s 443us/step - loss: 1.7848e-05 - val_loss: 1.8266e-05\n",
      "Epoch 13/50\n",
      "3561/3561 [==============================] - 2s 442us/step - loss: 1.7769e-05 - val_loss: 1.8174e-05\n",
      "Epoch 14/50\n",
      "3561/3561 [==============================] - 2s 442us/step - loss: 1.7701e-05 - val_loss: 1.7815e-05\n",
      "Epoch 15/50\n",
      "3561/3561 [==============================] - 2s 441us/step - loss: 1.7659e-05 - val_loss: 1.8864e-05\n",
      "Epoch 16/50\n",
      "3561/3561 [==============================] - 2s 442us/step - loss: 1.7587e-05 - val_loss: 1.7965e-05\n",
      "Epoch 17/50\n",
      "3561/3561 [==============================] - 2s 517us/step - loss: 1.7547e-05 - val_loss: 1.7944e-05\n",
      "Epoch 18/50\n",
      "3561/3561 [==============================] - 2s 441us/step - loss: 1.7502e-05 - val_loss: 1.7366e-05\n",
      "Epoch 19/50\n",
      "3561/3561 [==============================] - 2s 446us/step - loss: 1.7466e-05 - val_loss: 1.7470e-05\n",
      "Epoch 20/50\n",
      "3561/3561 [==============================] - 2s 440us/step - loss: 1.7419e-05 - val_loss: 1.7650e-05\n",
      "Epoch 21/50\n",
      "3561/3561 [==============================] - 2s 444us/step - loss: 1.7387e-05 - val_loss: 1.7256e-05\n",
      "Epoch 22/50\n",
      "3561/3561 [==============================] - 2s 438us/step - loss: 1.7340e-05 - val_loss: 1.7901e-05\n",
      "Epoch 23/50\n",
      "3561/3561 [==============================] - 2s 438us/step - loss: 1.7318e-05 - val_loss: 1.7154e-05\n",
      "Epoch 24/50\n",
      "3561/3561 [==============================] - 2s 439us/step - loss: 1.7194e-05 - val_loss: 1.7095e-05\n",
      "Epoch 25/50\n",
      "3561/3561 [==============================] - 2s 440us/step - loss: 1.6690e-05 - val_loss: 1.6612e-05\n",
      "Epoch 26/50\n",
      "3561/3561 [==============================] - 2s 459us/step - loss: 1.6143e-05 - val_loss: 1.6441e-05\n",
      "Epoch 27/50\n",
      "3561/3561 [==============================] - 2s 462us/step - loss: 1.5839e-05 - val_loss: 1.5814e-05\n",
      "Epoch 28/50\n",
      "3561/3561 [==============================] - 2s 435us/step - loss: 1.5697e-05 - val_loss: 1.6005e-05\n",
      "Epoch 29/50\n",
      "3561/3561 [==============================] - 2s 429us/step - loss: 1.5575e-05 - val_loss: 1.5487e-05\n",
      "Epoch 30/50\n",
      "3561/3561 [==============================] - 2s 426us/step - loss: 1.5444e-05 - val_loss: 1.5896e-05\n",
      "Epoch 31/50\n",
      "3561/3561 [==============================] - 2s 432us/step - loss: 1.5323e-05 - val_loss: 1.7193e-05\n",
      "Epoch 32/50\n",
      "3561/3561 [==============================] - 2s 423us/step - loss: 1.5238e-05 - val_loss: 1.5758e-05\n",
      "Epoch 33/50\n",
      "3561/3561 [==============================] - 2s 426us/step - loss: 1.5142e-05 - val_loss: 1.6158e-05\n",
      "Epoch 34/50\n",
      "3561/3561 [==============================] - 2s 428us/step - loss: 1.5071e-05 - val_loss: 1.5231e-05\n",
      "Epoch 35/50\n",
      "3561/3561 [==============================] - 2s 427us/step - loss: 1.4988e-05 - val_loss: 1.4974e-05\n",
      "Epoch 36/50\n",
      "3561/3561 [==============================] - 2s 427us/step - loss: 1.4900e-05 - val_loss: 1.5443e-05\n",
      "Epoch 37/50\n",
      "3561/3561 [==============================] - 2s 430us/step - loss: 1.4827e-05 - val_loss: 1.4849e-05\n",
      "Epoch 38/50\n",
      "3561/3561 [==============================] - 2s 430us/step - loss: 1.4750e-05 - val_loss: 1.5729e-05\n",
      "Epoch 39/50\n",
      "3561/3561 [==============================] - 2s 436us/step - loss: 1.4670e-05 - val_loss: 1.5184e-05\n",
      "Epoch 40/50\n",
      "3561/3561 [==============================] - 2s 434us/step - loss: 1.4592e-05 - val_loss: 1.4742e-05\n",
      "Epoch 41/50\n",
      "3561/3561 [==============================] - 2s 434us/step - loss: 1.4503e-05 - val_loss: 2.0777e-05\n",
      "Epoch 42/50\n",
      "3561/3561 [==============================] - 2s 434us/step - loss: 1.4438e-05 - val_loss: 1.4658e-05\n",
      "Epoch 43/50\n",
      "3561/3561 [==============================] - 2s 438us/step - loss: 1.4356e-05 - val_loss: 1.4260e-05\n",
      "Epoch 44/50\n",
      "3561/3561 [==============================] - 2s 433us/step - loss: 1.3975e-05 - val_loss: 1.4144e-05\n",
      "Epoch 45/50\n",
      "3561/3561 [==============================] - 2s 437us/step - loss: 1.3649e-05 - val_loss: 1.3915e-05\n",
      "Epoch 46/50\n",
      "3561/3561 [==============================] - 2s 439us/step - loss: 1.3518e-05 - val_loss: 1.4034e-05\n",
      "Epoch 47/50\n",
      "3561/3561 [==============================] - 2s 437us/step - loss: 1.3450e-05 - val_loss: 1.4393e-05\n",
      "Epoch 48/50\n",
      "3561/3561 [==============================] - 2s 432us/step - loss: 1.3376e-05 - val_loss: 1.6161e-05\n",
      "Epoch 49/50\n",
      "3561/3561 [==============================] - 2s 438us/step - loss: 1.3335e-05 - val_loss: 1.3673e-05\n",
      "Epoch 50/50\n",
      "3561/3561 [==============================] - 2s 442us/step - loss: 1.3295e-05 - val_loss: 1.4726e-05\n"
     ]
    }
   ],
   "source": [
    "history= autoencoder.fit(train_data,train_data,epochs=50,batch_size=64,shuffle=True,validation_data=(test_data,test_data))"
   ]
  },
  {
   "cell_type": "code",
   "execution_count": 25,
   "id": "42d5fbc7-22b8-4558-9a47-d6ca3e3831d0",
   "metadata": {},
   "outputs": [
    {
     "name": "stdout",
     "output_type": "stream",
     "text": [
      "1781/1781 [==============================] - 0s 234us/step\n"
     ]
    }
   ],
   "source": [
    "test_x_predictions=autoencoder.predict(test_data)\n",
    "mse=np.mean(np.power(test_data - test_x_predictions,2),axis=1)\n",
    "threshold_fixed=50\n",
    "pred_y=[1 if e > threshold_fixed else 0 for e in mse]"
   ]
  },
  {
   "cell_type": "code",
   "execution_count": 27,
   "id": "83c9c644-00b6-42ad-902a-7ad3086b8a24",
   "metadata": {},
   "outputs": [
    {
     "name": "stdout",
     "output_type": "stream",
     "text": [
      "[[56859     0]\n",
      " [  103     0]]\n"
     ]
    }
   ],
   "source": [
    "from sklearn.metrics import confusion_matrix\n",
    "print(confusion_matrix(test_labels,pred_y))\n",
    "      "
   ]
  },
  {
   "cell_type": "code",
   "execution_count": null,
   "id": "b1463e9c-20ba-43ab-9d99-a6c3bd355e67",
   "metadata": {},
   "outputs": [],
   "source": []
  }
 ],
 "metadata": {
  "kernelspec": {
   "display_name": "Python 3 (ipykernel)",
   "language": "python",
   "name": "python3"
  },
  "language_info": {
   "codemirror_mode": {
    "name": "ipython",
    "version": 3
   },
   "file_extension": ".py",
   "mimetype": "text/x-python",
   "name": "python",
   "nbconvert_exporter": "python",
   "pygments_lexer": "ipython3",
   "version": "3.11.5"
  }
 },
 "nbformat": 4,
 "nbformat_minor": 5
}
